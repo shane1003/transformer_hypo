{
 "cells": [
  {
   "cell_type": "code",
   "execution_count": 1,
   "metadata": {},
   "outputs": [],
   "source": [
    "import os\n",
    "import time\n",
    "import yaml\n",
    "import math\n",
    "import pandas as pd\n",
    "import numpy as np"
   ]
  },
  {
   "cell_type": "code",
   "execution_count": 2,
   "metadata": {},
   "outputs": [],
   "source": [
    "from data.excel2pd import data_load\n",
    "from data.preprocessing import data_preprocessing\n",
    "from data.train_test_split import data2Window, X_Y2train_test, X_Y_from_data\n",
    "from data.CustomDataset import CustomDataset"
   ]
  },
  {
   "cell_type": "code",
   "execution_count": 3,
   "metadata": {},
   "outputs": [],
   "source": [
    "import torch\n",
    "import torch.nn as nn\n",
    "import torch.optim as optim\n",
    "from torch.utils.data import TensorDataset # 텐서데이터셋\n",
    "from torch.utils.data import DataLoader # 데이터로더\n",
    "from model.model import Transformer\n",
    "\n",
    "import sys\n",
    "sys.setrecursionlimit(4000)"
   ]
  },
  {
   "cell_type": "code",
   "execution_count": 4,
   "metadata": {},
   "outputs": [
    {
     "name": "stdout",
     "output_type": "stream",
     "text": [
      "torch version>> 1.13.1\n",
      "GPU 사용 유무>> True\n",
      "GPU 이름>>  NVIDIA GeForce RTX 2080\n",
      "cuda:0\n"
     ]
    }
   ],
   "source": [
    "# torch version, gpu 사용 여부, 이름 체크\n",
    "print(\"torch version>>\", torch.__version__)\n",
    "print(\"GPU 사용 유무>>\", torch.cuda.is_available())\n",
    "if torch.cuda.is_available() :\n",
    "    print(\"GPU 이름>> \", torch.cuda.get_device_name(0))\n",
    "    device = \"cuda:0\" \n",
    "else :\n",
    "    device = \"cpu\"\n",
    "print(device)"
   ]
  },
  {
   "cell_type": "code",
   "execution_count": 5,
   "metadata": {},
   "outputs": [
    {
     "name": "stdout",
     "output_type": "stream",
     "text": [
      "(51166, 6, 1) (51166, 6)\n",
      "(309, 6) (309, 6)\n"
     ]
    }
   ],
   "source": [
    "f = open(\"config.yaml\", 'r')\n",
    "config = yaml.load(f, Loader=yaml.FullLoader)\n",
    "\n",
    "data = data_load(11)\n",
    "scaler, data = data_preprocessing(data, config['data_options'])\n",
    "\n",
    "X, Y = X_Y_from_data(data)\n",
    "\n",
    "X_train, Y_train, X_test, Y_test = X_Y2train_test(X=X, Y=Y,\n",
    "                                                  output_window=config['output_window'],\n",
    "                                                  input_size=config['data_options']['feature'],\n",
    "                                                  stride=config['stride'])\n",
    "\n",
    "print(X_train.shape, Y_train.shape)\n",
    "print(X_test.shape, Y_test.shape)"
   ]
  },
  {
   "cell_type": "code",
   "execution_count": 6,
   "metadata": {},
   "outputs": [],
   "source": [
    "dataset = CustomDataset(X_train, Y_train)\n",
    "dataloader = DataLoader(dataset, batch_size = config['batch'], shuffle=False)"
   ]
  },
  {
   "cell_type": "code",
   "execution_count": 12,
   "metadata": {},
   "outputs": [],
   "source": [
    "class PositionalEncoding(nn.Module):\n",
    "\n",
    "    def __init__(self, d_model, dropout=0.1, max_len=5000):\n",
    "        super(PositionalEncoding, self).__init__()\n",
    "        self.dropout = nn.Dropout(p=dropout)\n",
    "\n",
    "        pe = torch.zeros(max_len, d_model)\n",
    "        position = torch.arange(0, max_len, dtype=torch.float).unsqueeze(1)\n",
    "        div_term = torch.exp(torch.arange(0, d_model, 2).float() * (-math.log(10000.0) / d_model))\n",
    "        pe[:, 0::2] = torch.sin(position * div_term)\n",
    "        pe[:, 1::2] = torch.cos(position * div_term)\n",
    "        pe = pe.unsqueeze(0).transpose(0, 1)\n",
    "        self.register_buffer('pe', pe)\n",
    "\n",
    "    def forward(self, x):\n",
    "        x = x + self.pe[:x.size(0), :]\n",
    "        return self.dropout(x)"
   ]
  },
  {
   "cell_type": "code",
   "execution_count": null,
   "metadata": {},
   "outputs": [],
   "source": []
  }
 ],
 "metadata": {
  "kernelspec": {
   "display_name": "torch",
   "language": "python",
   "name": "python3"
  },
  "language_info": {
   "codemirror_mode": {
    "name": "ipython",
    "version": 3
   },
   "file_extension": ".py",
   "mimetype": "text/x-python",
   "name": "python",
   "nbconvert_exporter": "python",
   "pygments_lexer": "ipython3",
   "version": "3.8.18"
  }
 },
 "nbformat": 4,
 "nbformat_minor": 2
}
